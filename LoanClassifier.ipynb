{
 "cells": [
  {
   "cell_type": "code",
   "execution_count": 1,
   "metadata": {
    "collapsed": false
   },
   "outputs": [
    {
     "name": "stderr",
     "output_type": "stream",
     "text": [
      "Using TensorFlow backend.\n"
     ]
    }
   ],
   "source": [
    "# Loan Classifier\n",
    "import numpy as np\n",
    "import pandas as pd\n",
    "import matplotlib.pyplot as plt\n",
    "from sklearn.preprocessing import StandardScaler, LabelEncoder, OneHotEncoder\n",
    "from sklearn.model_selection import train_test_split\n",
    "from sklearn.metrics import confusion_matrix\n",
    "import os\n",
    "import tensorflow as tf\n",
    "import keras.backend.tensorflow_backend as KTF\n",
    "\n",
    "# fix for memory allocation ERROR\n",
    "def get_session(gpu_fraction=0.3):\n",
    "    '''Assume that you have 6GB of GPU memory and want to allocate ~2GB'''\n",
    "\n",
    "    num_threads = os.environ.get('OMP_NUM_THREADS')\n",
    "    gpu_options = tf.GPUOptions(per_process_gpu_memory_fraction=gpu_fraction)\n",
    "\n",
    "    if num_threads:\n",
    "        return tf.Session(config=tf.ConfigProto(\n",
    "            gpu_options=gpu_options, intra_op_parallelism_threads=num_threads))\n",
    "    else:\n",
    "        return tf.Session(config=tf.ConfigProto(gpu_options=gpu_options))\n",
    "\n",
    "KTF.set_session(get_session())\n"
   ]
  },
  {
   "cell_type": "code",
   "execution_count": 48,
   "metadata": {
    "collapsed": true
   },
   "outputs": [],
   "source": [
    "# data processing\n",
    "df = pd.read_csv('bank.csv')\n",
    "X = df.iloc[:, 0:9].values\n",
    "df1 = pd.read_csv('bank1.csv')\n",
    "Y = df1.iloc[:, 0].values\n",
    "# label encoding\n",
    "\n",
    "le = LabelEncoder()\n",
    "X[:, 1] = le.fit_transform(X[:, 1])\n",
    "X[:, 2] = le.fit_transform(X[:, 2])\n",
    "X[:, 3] = le.fit_transform(X[:, 3])\n",
    "X[:, 5] = le.fit_transform(X[:, 5])\n",
    "X[:, 7] = le.fit_transform(X[:, 7])\n",
    "Y = le.fit_transform(Y)\n",
    "# One Hot Encoding\n",
    "ohe = OneHotEncoder(categorical_features=[1])\n",
    "X = ohe.fit_transform(X).toarray()\n",
    "\n",
    "# Creating sets\n",
    "X_train, X_test, Y_train, Y_test =  train_test_split(X, Y, test_size=0.2, random_state=1)\n",
    "\n",
    "# feature Scaling\n",
    "sc_X = StandardScaler()\n",
    "X_train = sc_X.fit_transform(X_train)\n",
    "X_test = sc_X.transform(X_test)\n",
    "# DATA PROCESSING ENDS"
   ]
  },
  {
   "cell_type": "code",
   "execution_count": 49,
   "metadata": {
    "collapsed": true
   },
   "outputs": [],
   "source": [
    "# importing Deep Learning Libraries\n",
    "import keras\n",
    "from keras.models import Sequential\n",
    "from keras.layers import Dense"
   ]
  },
  {
   "cell_type": "code",
   "execution_count": 54,
   "metadata": {
    "collapsed": true
   },
   "outputs": [],
   "source": [
    "# creating the model\n",
    "clf = Sequential([\n",
    "    Dense(units=11, kernel_initializer='uniform', activation='relu', input_dim=19),\n",
    "    Dense(units=11, kernel_initializer='uniform', activation='relu'),\n",
    "    Dense(1, kernel_initializer='uniform', activation='sigmoid')\n",
    "])"
   ]
  },
  {
   "cell_type": "code",
   "execution_count": 55,
   "metadata": {
    "collapsed": true
   },
   "outputs": [],
   "source": [
    "# compiling classifier\n",
    "clf.compile(optimizer='adam', loss='binary_crossentropy', metrics=['accuracy'])"
   ]
  },
  {
   "cell_type": "code",
   "execution_count": 56,
   "metadata": {
    "collapsed": false,
    "scrolled": false
   },
   "outputs": [
    {
     "name": "stderr",
     "output_type": "stream",
     "text": [
      "c:\\users\\hello\\appdata\\local\\conda\\conda\\envs\\tensorflow\\lib\\site-packages\\keras\\backend\\tensorflow_backend.py:2289: UserWarning: Expected no kwargs, you passed 1\n",
      "kwargs passed to function are ignored with Tensorflow backend\n",
      "  warnings.warn('\\n'.join(msg))\n"
     ]
    },
    {
     "name": "stdout",
     "output_type": "stream",
     "text": [
      "Epoch 1/100\n",
      "8929/8929 [==============================] - 4s - loss: 0.4079 - acc: 0.8692     \n",
      "Epoch 2/100\n",
      "8929/8929 [==============================] - 3s - loss: 0.3630 - acc: 0.8701     \n",
      "Epoch 3/100\n",
      "8929/8929 [==============================] - 4s - loss: 0.3620 - acc: 0.8701     \n",
      "Epoch 4/100\n",
      "8929/8929 [==============================] - 4s - loss: 0.3613 - acc: 0.8701     \n",
      "Epoch 5/100\n",
      "8929/8929 [==============================] - 4s - loss: 0.3609 - acc: 0.8701     \n",
      "Epoch 6/100\n",
      "8929/8929 [==============================] - 4s - loss: 0.3599 - acc: 0.8701     \n",
      "Epoch 7/100\n",
      "8929/8929 [==============================] - 4s - loss: 0.3599 - acc: 0.8701     \n",
      "Epoch 8/100\n",
      "8929/8929 [==============================] - 4s - loss: 0.3595 - acc: 0.8701     \n",
      "Epoch 9/100\n",
      "8929/8929 [==============================] - 4s - loss: 0.3593 - acc: 0.8701     \n",
      "Epoch 10/100\n",
      "8929/8929 [==============================] - 3s - loss: 0.3594 - acc: 0.8701     \n",
      "Epoch 11/100\n",
      "8929/8929 [==============================] - 4s - loss: 0.3587 - acc: 0.8701     \n",
      "Epoch 12/100\n",
      "8929/8929 [==============================] - 4s - loss: 0.3583 - acc: 0.8701     \n",
      "Epoch 13/100\n",
      "8929/8929 [==============================] - 4s - loss: 0.3584 - acc: 0.8701     \n",
      "Epoch 14/100\n",
      "8929/8929 [==============================] - 4s - loss: 0.3581 - acc: 0.8701     \n",
      "Epoch 15/100\n",
      "8929/8929 [==============================] - 4s - loss: 0.3582 - acc: 0.8701     \n",
      "Epoch 16/100\n",
      "8929/8929 [==============================] - 4s - loss: 0.3576 - acc: 0.8701     \n",
      "Epoch 17/100\n",
      "8929/8929 [==============================] - 4s - loss: 0.3575 - acc: 0.8701     \n",
      "Epoch 18/100\n",
      "8929/8929 [==============================] - 4s - loss: 0.3574 - acc: 0.8701     \n",
      "Epoch 19/100\n",
      "8929/8929 [==============================] - 4s - loss: 0.3573 - acc: 0.8701     \n",
      "Epoch 20/100\n",
      "8929/8929 [==============================] - 4s - loss: 0.3573 - acc: 0.8701     \n",
      "Epoch 21/100\n",
      "8929/8929 [==============================] - 3s - loss: 0.3570 - acc: 0.8701     \n",
      "Epoch 22/100\n",
      "8929/8929 [==============================] - 3s - loss: 0.3571 - acc: 0.8701     \n",
      "Epoch 23/100\n",
      "8929/8929 [==============================] - 3s - loss: 0.3562 - acc: 0.8701     \n",
      "Epoch 24/100\n",
      "8929/8929 [==============================] - 3s - loss: 0.3565 - acc: 0.8701     \n",
      "Epoch 25/100\n",
      "8929/8929 [==============================] - 3s - loss: 0.3564 - acc: 0.8701     \n",
      "Epoch 26/100\n",
      "8929/8929 [==============================] - 3s - loss: 0.3564 - acc: 0.8701     \n",
      "Epoch 27/100\n",
      "8929/8929 [==============================] - 3s - loss: 0.3563 - acc: 0.8701     \n",
      "Epoch 28/100\n",
      "8929/8929 [==============================] - 3s - loss: 0.3561 - acc: 0.8701     \n",
      "Epoch 29/100\n",
      "8929/8929 [==============================] - 4s - loss: 0.3559 - acc: 0.8701     \n",
      "Epoch 30/100\n",
      "8929/8929 [==============================] - 3s - loss: 0.3560 - acc: 0.8701     \n",
      "Epoch 31/100\n",
      "8929/8929 [==============================] - 3s - loss: 0.3561 - acc: 0.8701     \n",
      "Epoch 32/100\n",
      "8929/8929 [==============================] - 4s - loss: 0.3557 - acc: 0.8701     \n",
      "Epoch 33/100\n",
      "8929/8929 [==============================] - 3s - loss: 0.3557 - acc: 0.8701     \n",
      "Epoch 34/100\n",
      "8929/8929 [==============================] - 3s - loss: 0.3557 - acc: 0.8701     \n",
      "Epoch 35/100\n",
      "8929/8929 [==============================] - 3s - loss: 0.3554 - acc: 0.8701     \n",
      "Epoch 36/100\n",
      "8929/8929 [==============================] - 3s - loss: 0.3555 - acc: 0.8701     \n",
      "Epoch 37/100\n",
      "8929/8929 [==============================] - 4s - loss: 0.3554 - acc: 0.8701     \n",
      "Epoch 38/100\n",
      "8929/8929 [==============================] - 4s - loss: 0.3553 - acc: 0.8701     \n",
      "Epoch 39/100\n",
      "8929/8929 [==============================] - 4s - loss: 0.3550 - acc: 0.8701     \n",
      "Epoch 40/100\n",
      "8929/8929 [==============================] - 4s - loss: 0.3551 - acc: 0.8701     \n",
      "Epoch 41/100\n",
      "8929/8929 [==============================] - 3s - loss: 0.3551 - acc: 0.8701     \n",
      "Epoch 42/100\n",
      "8929/8929 [==============================] - 4s - loss: 0.3547 - acc: 0.8701     \n",
      "Epoch 43/100\n",
      "8929/8929 [==============================] - 4s - loss: 0.3549 - acc: 0.8701     \n",
      "Epoch 44/100\n",
      "8929/8929 [==============================] - 3s - loss: 0.3547 - acc: 0.8701     \n",
      "Epoch 45/100\n",
      "8929/8929 [==============================] - 3s - loss: 0.3546 - acc: 0.8701     \n",
      "Epoch 46/100\n",
      "8929/8929 [==============================] - 3s - loss: 0.3543 - acc: 0.8701     \n",
      "Epoch 47/100\n",
      "8929/8929 [==============================] - 3s - loss: 0.3543 - acc: 0.8701     \n",
      "Epoch 48/100\n",
      "8929/8929 [==============================] - 4s - loss: 0.3539 - acc: 0.8701     \n",
      "Epoch 49/100\n",
      "8929/8929 [==============================] - 3s - loss: 0.3537 - acc: 0.8701     \n",
      "Epoch 50/100\n",
      "8929/8929 [==============================] - 3s - loss: 0.3537 - acc: 0.8701     \n",
      "Epoch 51/100\n",
      "8929/8929 [==============================] - 3s - loss: 0.3533 - acc: 0.8701     \n",
      "Epoch 52/100\n",
      "8929/8929 [==============================] - 3s - loss: 0.3535 - acc: 0.8701     \n",
      "Epoch 53/100\n",
      "8929/8929 [==============================] - 3s - loss: 0.3532 - acc: 0.8701     \n",
      "Epoch 54/100\n",
      "8929/8929 [==============================] - 4s - loss: 0.3531 - acc: 0.8701     \n",
      "Epoch 55/100\n",
      "8929/8929 [==============================] - 4s - loss: 0.3529 - acc: 0.8701     \n",
      "Epoch 56/100\n",
      "8929/8929 [==============================] - 4s - loss: 0.3526 - acc: 0.8701     \n",
      "Epoch 57/100\n",
      "8929/8929 [==============================] - 3s - loss: 0.3527 - acc: 0.8701     \n",
      "Epoch 58/100\n",
      "8929/8929 [==============================] - 4s - loss: 0.3530 - acc: 0.8701     \n",
      "Epoch 59/100\n",
      "8929/8929 [==============================] - 4s - loss: 0.3522 - acc: 0.8701     \n",
      "Epoch 60/100\n",
      "8929/8929 [==============================] - 4s - loss: 0.3524 - acc: 0.8701     \n",
      "Epoch 61/100\n",
      "8929/8929 [==============================] - 4s - loss: 0.3523 - acc: 0.8701     \n",
      "Epoch 62/100\n",
      "8929/8929 [==============================] - 3s - loss: 0.3523 - acc: 0.8701     \n",
      "Epoch 63/100\n",
      "8929/8929 [==============================] - 4s - loss: 0.3519 - acc: 0.8701     \n",
      "Epoch 64/100\n",
      "8929/8929 [==============================] - 4s - loss: 0.3515 - acc: 0.8701     \n",
      "Epoch 65/100\n",
      "8929/8929 [==============================] - 4s - loss: 0.3518 - acc: 0.8701     \n",
      "Epoch 66/100\n",
      "8929/8929 [==============================] - 3s - loss: 0.3515 - acc: 0.8701     \n",
      "Epoch 67/100\n",
      "8929/8929 [==============================] - 3s - loss: 0.3516 - acc: 0.8701     \n",
      "Epoch 68/100\n",
      "8929/8929 [==============================] - 4s - loss: 0.3512 - acc: 0.8702     \n",
      "Epoch 69/100\n",
      "8929/8929 [==============================] - 3s - loss: 0.3516 - acc: 0.8702     \n",
      "Epoch 70/100\n",
      "8929/8929 [==============================] - 4s - loss: 0.3514 - acc: 0.8701     \n",
      "Epoch 71/100\n",
      "8929/8929 [==============================] - 3s - loss: 0.3513 - acc: 0.8702     \n",
      "Epoch 72/100\n",
      "8929/8929 [==============================] - 3s - loss: 0.3515 - acc: 0.8701     \n",
      "Epoch 73/100\n",
      "8929/8929 [==============================] - 3s - loss: 0.3507 - acc: 0.8701     \n",
      "Epoch 74/100\n",
      "8929/8929 [==============================] - 3s - loss: 0.3504 - acc: 0.8701     \n",
      "Epoch 75/100\n",
      "8929/8929 [==============================] - 3s - loss: 0.3506 - acc: 0.8702     \n",
      "Epoch 76/100\n",
      "8929/8929 [==============================] - 4s - loss: 0.3510 - acc: 0.8702     \n",
      "Epoch 77/100\n",
      "8929/8929 [==============================] - 4s - loss: 0.3504 - acc: 0.8702     \n",
      "Epoch 78/100\n",
      "8929/8929 [==============================] - 4s - loss: 0.3499 - acc: 0.8701     \n",
      "Epoch 79/100\n",
      "8929/8929 [==============================] - 4s - loss: 0.3498 - acc: 0.8701     \n",
      "Epoch 80/100\n",
      "8929/8929 [==============================] - 4s - loss: 0.3496 - acc: 0.8702     \n",
      "Epoch 81/100\n",
      "8929/8929 [==============================] - 4s - loss: 0.3499 - acc: 0.8702     \n",
      "Epoch 82/100\n",
      "8929/8929 [==============================] - 4s - loss: 0.3497 - acc: 0.8704     \n",
      "Epoch 83/100\n",
      "8929/8929 [==============================] - 3s - loss: 0.3493 - acc: 0.8704     \n",
      "Epoch 84/100\n",
      "8929/8929 [==============================] - 3s - loss: 0.3493 - acc: 0.8706     \n",
      "Epoch 85/100\n",
      "8929/8929 [==============================] - 3s - loss: 0.3494 - acc: 0.8706     \n",
      "Epoch 86/100\n",
      "8929/8929 [==============================] - 4s - loss: 0.3491 - acc: 0.8706     \n",
      "Epoch 87/100\n",
      "8929/8929 [==============================] - 3s - loss: 0.3488 - acc: 0.8701     \n",
      "Epoch 88/100\n",
      "8929/8929 [==============================] - 3s - loss: 0.3491 - acc: 0.8709     \n",
      "Epoch 89/100\n",
      "8929/8929 [==============================] - 3s - loss: 0.3488 - acc: 0.8706     \n",
      "Epoch 90/100\n",
      "8929/8929 [==============================] - 3s - loss: 0.3486 - acc: 0.8706     \n",
      "Epoch 91/100\n",
      "8929/8929 [==============================] - 4s - loss: 0.3485 - acc: 0.8702     \n",
      "Epoch 92/100\n",
      "8929/8929 [==============================] - 3s - loss: 0.3480 - acc: 0.8704     \n",
      "Epoch 93/100\n",
      "8929/8929 [==============================] - 3s - loss: 0.3483 - acc: 0.8706     \n",
      "Epoch 94/100\n",
      "8929/8929 [==============================] - 3s - loss: 0.3484 - acc: 0.8706     \n",
      "Epoch 95/100\n",
      "8929/8929 [==============================] - 3s - loss: 0.3481 - acc: 0.8704     \n",
      "Epoch 96/100\n",
      "8929/8929 [==============================] - 3s - loss: 0.3482 - acc: 0.8708     \n",
      "Epoch 97/100\n",
      "8929/8929 [==============================] - 3s - loss: 0.3482 - acc: 0.8705     \n",
      "Epoch 98/100\n",
      "8929/8929 [==============================] - 3s - loss: 0.3483 - acc: 0.8705     \n",
      "Epoch 99/100\n",
      "8929/8929 [==============================] - 3s - loss: 0.3483 - acc: 0.8703     \n",
      "Epoch 100/100\n",
      "8929/8929 [==============================] - 3s - loss: 0.3481 - acc: 0.8705     \n"
     ]
    },
    {
     "data": {
      "text/plain": [
       "<keras.callbacks.History at 0x2060ab208d0>"
      ]
     },
     "execution_count": 56,
     "metadata": {},
     "output_type": "execute_result"
    }
   ],
   "source": [
    "# training model\n",
    "clf.fit(X_train, Y_train, batch_size=10, epochs=100)"
   ]
  },
  {
   "cell_type": "code",
   "execution_count": 57,
   "metadata": {
    "collapsed": false
   },
   "outputs": [
    {
     "name": "stderr",
     "output_type": "stream",
     "text": [
      "c:\\users\\hello\\appdata\\local\\conda\\conda\\envs\\tensorflow\\lib\\site-packages\\keras\\backend\\tensorflow_backend.py:2289: UserWarning: Expected no kwargs, you passed 1\n",
      "kwargs passed to function are ignored with Tensorflow backend\n",
      "  warnings.warn('\\n'.join(msg))\n"
     ]
    }
   ],
   "source": [
    "# predicting the values\n",
    "Y_pred = clf.predict(X_test)\n",
    "Y_pred = (Y_pred > 0.5)"
   ]
  },
  {
   "cell_type": "code",
   "execution_count": null,
   "metadata": {
    "collapsed": true
   },
   "outputs": [],
   "source": [
    "print(Y_pred)"
   ]
  },
  {
   "cell_type": "code",
   "execution_count": 60,
   "metadata": {
    "collapsed": false
   },
   "outputs": [
    {
     "name": "stdout",
     "output_type": "stream",
     "text": [
      "[[1929    4]\n",
      " [ 299    1]]\n"
     ]
    }
   ],
   "source": [
    "c = confusion_matrix(Y_test, Y_pred)\n",
    "print(c)"
   ]
  }
 ],
 "metadata": {
  "kernelspec": {
   "display_name": "Python 3",
   "language": "python",
   "name": "python3"
  },
  "language_info": {
   "codemirror_mode": {
    "name": "ipython",
    "version": 3
   },
   "file_extension": ".py",
   "mimetype": "text/x-python",
   "name": "python",
   "nbconvert_exporter": "python",
   "pygments_lexer": "ipython3",
   "version": "3.6.0"
  },
  "varInspector": {
   "cols": {
    "lenName": 16,
    "lenType": 16,
    "lenVar": 40
   },
   "kernels_config": {
    "python": {
     "delete_cmd_postfix": "",
     "delete_cmd_prefix": "del ",
     "library": "var_list.py",
     "varRefreshCmd": "print(var_dic_list())"
    },
    "r": {
     "delete_cmd_postfix": ") ",
     "delete_cmd_prefix": "rm(",
     "library": "var_list.r",
     "varRefreshCmd": "cat(var_dic_list()) "
    }
   },
   "types_to_exclude": [
    "module",
    "function",
    "builtin_function_or_method",
    "instance",
    "_Feature"
   ],
   "window_display": false
  }
 },
 "nbformat": 4,
 "nbformat_minor": 2
}
