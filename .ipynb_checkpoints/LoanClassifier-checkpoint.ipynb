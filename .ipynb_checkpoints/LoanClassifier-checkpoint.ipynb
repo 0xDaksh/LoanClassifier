{
 "cells": [
  {
   "cell_type": "code",
   "execution_count": 1,
   "metadata": {},
   "outputs": [
    {
     "name": "stderr",
     "output_type": "stream",
     "text": [
      "Using TensorFlow backend.\n"
     ]
    }
   ],
   "source": [
    "# Loan Classifier\n",
    "import numpy as np\n",
    "import pandas as pd\n",
    "import matplotlib.pyplot as plt\n",
    "from sklearn.preprocessing import StandardScaler, LabelEncoder, OneHotEncoder\n",
    "from sklearn.model_selection import train_test_split\n",
    "from sklearn.metrics import confusion_matrix\n",
    "import os\n",
    "import tensorflow as tf\n",
    "import keras.backend.tensorflow_backend as KTF\n",
    "\n",
    "# fix for memory allocation ERROR\n",
    "def get_session(gpu_fraction=0.3):\n",
    "    '''Assume that you have 6GB of GPU memory and want to allocate ~2GB'''\n",
    "\n",
    "    num_threads = os.environ.get('OMP_NUM_THREADS')\n",
    "    gpu_options = tf.GPUOptions(per_process_gpu_memory_fraction=gpu_fraction)\n",
    "\n",
    "    if num_threads:\n",
    "        return tf.Session(config=tf.ConfigProto(\n",
    "            gpu_options=gpu_options, intra_op_parallelism_threads=num_threads))\n",
    "    else:\n",
    "        return tf.Session(config=tf.ConfigProto(gpu_options=gpu_options))\n",
    "\n",
    "KTF.set_session(get_session())\n"
   ]
  },
  {
   "cell_type": "code",
   "execution_count": 2,
   "metadata": {
    "collapsed": true
   },
   "outputs": [],
   "source": [
    "# data processing\n",
    "df = pd.read_csv('bank.csv')\n",
    "X = df.iloc[:, 0:11].values\n",
    "Y = df.iloc[:, 8:9].values\n",
    "# label encoding\n",
    "\n",
    "le = LabelEncoder()\n",
    "X[:, 1] = le.fit_transform(X[:, 1])\n",
    "X[:, 2] = le.fit_transform(X[:, 2])\n",
    "X[:, 3] = le.fit_transform(X[:, 3])\n",
    "X[:, 5] = le.fit_transform(X[:, 5])\n",
    "X[:, 7] = le.fit_transform(X[:, 7])\n",
    "X[:, 8] = le.fit_transform(X[:, 8])\n",
    "Y[:, 0] = le.fit_transform(Y[:, 0])\n",
    "\n",
    "# One Hot Encoding\n",
    "\n",
    "ohe = OneHotEncoder(categorical_features=[1])\n",
    "X = ohe.fit_transform(X).toarray()\n",
    "\n",
    "# Creating sets\n",
    "X_train, X_test, Y_train, Y_test =  train_test_split(X, Y, test_size=0.2, random_state=1)\n",
    "\n",
    "# feature Scaling\n",
    "sc_X = StandardScaler()\n",
    "X_train = sc_X.fit_transform(X_train)\n",
    "X_test = sc_X.transform(X_test)\n",
    "# DATA PROCESSING ENDS"
   ]
  },
  {
   "cell_type": "code",
   "execution_count": 3,
   "metadata": {},
   "outputs": [],
   "source": [
    "# importing Deep Learning Libraries\n",
    "import keras\n",
    "from keras.models import Sequential\n",
    "from keras.layers import Dense"
   ]
  },
  {
   "cell_type": "code",
   "execution_count": 4,
   "metadata": {
    "collapsed": true
   },
   "outputs": [],
   "source": [
    "# creating the model\n",
    "clf = Sequential([\n",
    "    Dense(units=11, kernel_initializer='uniform', activation='relu', input_dim=20),\n",
    "    Dense(units=11, kernel_initializer='uniform', activation='relu'),\n",
    "    Dense(1, kernel_initializer='uniform', activation='sigmoid')\n",
    "])"
   ]
  },
  {
   "cell_type": "code",
   "execution_count": 5,
   "metadata": {},
   "outputs": [],
   "source": [
    "# compiling classifier\n",
    "clf.compile(optimizer='adam', loss='binary_crossentropy', metrics=['accuracy'])"
   ]
  },
  {
   "cell_type": "code",
   "execution_count": 6,
   "metadata": {
    "scrolled": false
   },
   "outputs": [
    {
     "name": "stderr",
     "output_type": "stream",
     "text": [
      "c:\\users\\hello\\appdata\\local\\conda\\conda\\envs\\tensorflow\\lib\\site-packages\\keras\\backend\\tensorflow_backend.py:2289: UserWarning: Expected no kwargs, you passed 1\n",
      "kwargs passed to function are ignored with Tensorflow backend\n",
      "  warnings.warn('\\n'.join(msg))\n"
     ]
    },
    {
     "name": "stdout",
     "output_type": "stream",
     "text": [
      "Epoch 1/100\n",
      "8929/8929 [==============================] - 4s - loss: 0.1292 - acc: 0.9745     \n",
      "Epoch 2/100\n",
      "8929/8929 [==============================] - 3s - loss: 0.0014 - acc: 0.9998     \n",
      "Epoch 3/100\n",
      "8929/8929 [==============================] - 3s - loss: 4.8984e-04 - acc: 0.9998     \n",
      "Epoch 4/100\n",
      "8929/8929 [==============================] - 3s - loss: 2.8225e-04 - acc: 0.9998     \n",
      "Epoch 5/100\n",
      "8929/8929 [==============================] - 3s - loss: 2.1203e-04 - acc: 1.0000     \n",
      "Epoch 6/100\n",
      "8929/8929 [==============================] - 3s - loss: 1.8420e-04 - acc: 0.9999     \n",
      "Epoch 7/100\n",
      "8929/8929 [==============================] - 3s - loss: 1.4590e-04 - acc: 1.0000     \n",
      "Epoch 8/100\n",
      "8929/8929 [==============================] - 3s - loss: 1.1800e-04 - acc: 1.0000     \n",
      "Epoch 9/100\n",
      "8929/8929 [==============================] - 3s - loss: 9.6664e-05 - acc: 1.0000     \n",
      "Epoch 10/100\n",
      "8929/8929 [==============================] - 3s - loss: 8.8823e-05 - acc: 1.0000     \n",
      "Epoch 11/100\n",
      "8929/8929 [==============================] - 3s - loss: 6.3946e-05 - acc: 1.0000     \n",
      "Epoch 12/100\n",
      "8929/8929 [==============================] - 3s - loss: 5.4033e-05 - acc: 1.0000     \n",
      "Epoch 13/100\n",
      "8929/8929 [==============================] - 3s - loss: 4.2099e-05 - acc: 1.0000     \n",
      "Epoch 14/100\n",
      "8929/8929 [==============================] - 3s - loss: 3.3368e-05 - acc: 1.0000     \n",
      "Epoch 15/100\n",
      "8929/8929 [==============================] - 3s - loss: 2.6177e-05 - acc: 1.0000     \n",
      "Epoch 16/100\n",
      "8929/8929 [==============================] - 3s - loss: 2.0801e-05 - acc: 1.0000     \n",
      "Epoch 17/100\n",
      "8929/8929 [==============================] - 3s - loss: 1.7591e-05 - acc: 1.0000     \n",
      "Epoch 18/100\n",
      "8929/8929 [==============================] - 3s - loss: 1.4823e-05 - acc: 1.0000     \n",
      "Epoch 19/100\n",
      "8929/8929 [==============================] - 3s - loss: 1.2412e-05 - acc: 1.0000     \n",
      "Epoch 20/100\n",
      "8929/8929 [==============================] - 4s - loss: 1.0401e-05 - acc: 1.0000     \n",
      "Epoch 21/100\n",
      "8929/8929 [==============================] - 4s - loss: 8.7035e-06 - acc: 1.0000     \n",
      "Epoch 22/100\n",
      "8929/8929 [==============================] - 3s - loss: 7.2534e-06 - acc: 1.0000     \n",
      "Epoch 23/100\n",
      "8929/8929 [==============================] - 3s - loss: 6.0022e-06 - acc: 1.0000     \n",
      "Epoch 24/100\n",
      "8929/8929 [==============================] - 3s - loss: 5.2569e-06 - acc: 1.0000     \n",
      "Epoch 25/100\n",
      "8929/8929 [==============================] - 3s - loss: 4.2559e-06 - acc: 1.0000     \n",
      "Epoch 26/100\n",
      "8929/8929 [==============================] - 3s - loss: 3.4477e-06 - acc: 1.0000     \n",
      "Epoch 27/100\n",
      "8929/8929 [==============================] - 3s - loss: 2.8159e-06 - acc: 1.0000     \n",
      "Epoch 28/100\n",
      "8929/8929 [==============================] - 3s - loss: 2.2671e-06 - acc: 1.0000     \n",
      "Epoch 29/100\n",
      "8929/8929 [==============================] - 3s - loss: 1.8527e-06 - acc: 1.0000     \n",
      "Epoch 30/100\n",
      "8929/8929 [==============================] - 4s - loss: 1.5498e-06 - acc: 1.0000     \n",
      "Epoch 31/100\n",
      "8929/8929 [==============================] - 3s - loss: 1.2764e-06 - acc: 1.0000     \n",
      "Epoch 32/100\n",
      "8929/8929 [==============================] - 3s - loss: 1.0636e-06 - acc: 1.0000     \n",
      "Epoch 33/100\n",
      "8929/8929 [==============================] - 3s - loss: 8.6825e-07 - acc: 1.0000     \n",
      "Epoch 34/100\n",
      "8929/8929 [==============================] - 3s - loss: 7.1431e-07 - acc: 1.0000     \n",
      "Epoch 35/100\n",
      "8929/8929 [==============================] - 3s - loss: 5.8797e-07 - acc: 1.0000     \n",
      "Epoch 36/100\n",
      "8929/8929 [==============================] - 3s - loss: 4.8732e-07 - acc: 1.0000     \n",
      "Epoch 37/100\n",
      "8929/8929 [==============================] - 3s - loss: 4.0667e-07 - acc: 1.0000     \n",
      "Epoch 38/100\n",
      "8929/8929 [==============================] - 3s - loss: 3.4491e-07 - acc: 1.0000     \n",
      "Epoch 39/100\n",
      "8929/8929 [==============================] - 3s - loss: 2.9706e-07 - acc: 1.0000     \n",
      "Epoch 40/100\n",
      "8929/8929 [==============================] - 3s - loss: 2.5748e-07 - acc: 1.0000     \n",
      "Epoch 41/100\n",
      "8929/8929 [==============================] - 4s - loss: 2.2301e-07 - acc: 1.0000     \n",
      "Epoch 42/100\n",
      "8929/8929 [==============================] - 4s - loss: 1.9671e-07 - acc: 1.0000     \n",
      "Epoch 43/100\n",
      "8929/8929 [==============================] - 3s - loss: 1.7506e-07 - acc: 1.0000     \n",
      "Epoch 44/100\n",
      "8929/8929 [==============================] - 3s - loss: 1.6102e-07 - acc: 1.0000     \n",
      "Epoch 45/100\n",
      "8929/8929 [==============================] - 3s - loss: 1.4805e-07 - acc: 1.0000     \n",
      "Epoch 46/100\n",
      "8929/8929 [==============================] - 3s - loss: 1.3813e-07 - acc: 1.0000     \n",
      "Epoch 47/100\n",
      "8929/8929 [==============================] - 3s - loss: 1.3043e-07 - acc: 1.0000     \n",
      "Epoch 48/100\n",
      "8929/8929 [==============================] - 3s - loss: 1.2416e-07 - acc: 1.0000     \n",
      "Epoch 49/100\n",
      "8929/8929 [==============================] - 3s - loss: 1.1948e-07 - acc: 1.0000     \n",
      "Epoch 50/100\n",
      "8929/8929 [==============================] - 4s - loss: 1.1577e-07 - acc: 1.0000     \n",
      "Epoch 51/100\n",
      "8929/8929 [==============================] - 3s - loss: 1.1266e-07 - acc: 1.0000     \n",
      "Epoch 52/100\n",
      "8929/8929 [==============================] - 3s - loss: 1.1035e-07 - acc: 1.0000     \n",
      "Epoch 53/100\n",
      "8929/8929 [==============================] - 3s - loss: 1.0852e-07 - acc: 1.0000     \n",
      "Epoch 54/100\n",
      "8929/8929 [==============================] - 3s - loss: 1.0716e-07 - acc: 1.0000     \n",
      "Epoch 55/100\n",
      "8929/8929 [==============================] - 3s - loss: 1.0619e-07 - acc: 1.0000     \n",
      "Epoch 56/100\n",
      "8929/8929 [==============================] - 3s - loss: 1.0538e-07 - acc: 1.0000     \n",
      "Epoch 57/100\n",
      "8929/8929 [==============================] - 3s - loss: 1.0471e-07 - acc: 1.0000     \n",
      "Epoch 58/100\n",
      "8929/8929 [==============================] - 3s - loss: 1.0422e-07 - acc: 1.0000     \n",
      "Epoch 59/100\n",
      "8929/8929 [==============================] - 3s - loss: 1.0382e-07 - acc: 1.0000     \n",
      "Epoch 60/100\n",
      "8929/8929 [==============================] - 3s - loss: 1.0350e-07 - acc: 1.0000     \n",
      "Epoch 61/100\n",
      "8929/8929 [==============================] - 3s - loss: 1.0328e-07 - acc: 1.0000     \n",
      "Epoch 62/100\n",
      "8929/8929 [==============================] - 3s - loss: 1.0310e-07 - acc: 1.0000     \n",
      "Epoch 63/100\n",
      "8929/8929 [==============================] - 3s - loss: 1.0298e-07 - acc: 1.0000     \n",
      "Epoch 64/100\n",
      "8929/8929 [==============================] - 3s - loss: 1.0287e-07 - acc: 1.0000     \n",
      "Epoch 65/100\n",
      "8929/8929 [==============================] - 4s - loss: 1.0279e-07 - acc: 1.0000     \n",
      "Epoch 66/100\n",
      "8929/8929 [==============================] - 3s - loss: 1.0272e-07 - acc: 1.0000     \n",
      "Epoch 67/100\n",
      "8929/8929 [==============================] - 3s - loss: 1.0270e-07 - acc: 1.0000     \n",
      "Epoch 68/100\n",
      "8929/8929 [==============================] - 3s - loss: 1.0264e-07 - acc: 1.0000     \n",
      "Epoch 69/100\n",
      "8929/8929 [==============================] - 3s - loss: 1.0262e-07 - acc: 1.0000     \n",
      "Epoch 70/100\n",
      "8929/8929 [==============================] - 3s - loss: 1.0260e-07 - acc: 1.0000     \n",
      "Epoch 71/100\n",
      "8929/8929 [==============================] - 3s - loss: 1.0258e-07 - acc: 1.0000     \n",
      "Epoch 72/100\n",
      "8929/8929 [==============================] - 3s - loss: 1.0256e-07 - acc: 1.0000     \n",
      "Epoch 73/100\n",
      "8929/8929 [==============================] - 3s - loss: 1.0255e-07 - acc: 1.0000     \n",
      "Epoch 74/100\n",
      "8929/8929 [==============================] - 3s - loss: 1.0255e-07 - acc: 1.0000     \n",
      "Epoch 75/100\n",
      "8929/8929 [==============================] - 3s - loss: 1.0252e-07 - acc: 1.0000     \n",
      "Epoch 76/100\n",
      "8929/8929 [==============================] - 3s - loss: 1.0252e-07 - acc: 1.0000     \n",
      "Epoch 77/100\n",
      "8929/8929 [==============================] - 4s - loss: 1.0252e-07 - acc: 1.0000     \n",
      "Epoch 78/100\n",
      "8929/8929 [==============================] - 3s - loss: 1.0252e-07 - acc: 1.0000     \n",
      "Epoch 79/100\n",
      "8929/8929 [==============================] - 3s - loss: 1.0252e-07 - acc: 1.0000     \n",
      "Epoch 80/100\n",
      "8929/8929 [==============================] - 4s - loss: 1.0250e-07 - acc: 1.0000     \n",
      "Epoch 81/100\n",
      "8929/8929 [==============================] - 3s - loss: 1.0250e-07 - acc: 1.0000     \n",
      "Epoch 82/100\n",
      "8929/8929 [==============================] - 3s - loss: 1.0250e-07 - acc: 1.0000     \n",
      "Epoch 83/100\n"
     ]
    },
    {
     "name": "stdout",
     "output_type": "stream",
     "text": [
      "8929/8929 [==============================] - 3s - loss: 1.0250e-07 - acc: 1.0000     \n",
      "Epoch 84/100\n",
      "8929/8929 [==============================] - 3s - loss: 1.0250e-07 - acc: 1.0000     \n",
      "Epoch 85/100\n",
      "8929/8929 [==============================] - 3s - loss: 1.0250e-07 - acc: 1.0000     \n",
      "Epoch 86/100\n",
      "8929/8929 [==============================] - 4s - loss: 1.0250e-07 - acc: 1.0000     \n",
      "Epoch 87/100\n",
      "8929/8929 [==============================] - 4s - loss: 1.0250e-07 - acc: 1.0000     \n",
      "Epoch 88/100\n",
      "8929/8929 [==============================] - 4s - loss: 1.0250e-07 - acc: 1.0000     \n",
      "Epoch 89/100\n",
      "8929/8929 [==============================] - 3s - loss: 1.0250e-07 - acc: 1.0000     \n",
      "Epoch 90/100\n",
      "8929/8929 [==============================] - 3s - loss: 1.0250e-07 - acc: 1.0000     \n",
      "Epoch 91/100\n",
      "8929/8929 [==============================] - 3s - loss: 1.0250e-07 - acc: 1.0000     \n",
      "Epoch 92/100\n",
      "8929/8929 [==============================] - 3s - loss: 1.0250e-07 - acc: 1.0000     \n",
      "Epoch 93/100\n",
      "8929/8929 [==============================] - 4s - loss: 1.0250e-07 - acc: 1.0000     \n",
      "Epoch 94/100\n",
      "8929/8929 [==============================] - 4s - loss: 1.0252e-07 - acc: 1.0000     \n",
      "Epoch 95/100\n",
      "8929/8929 [==============================] - 4s - loss: 1.0250e-07 - acc: 1.0000     \n",
      "Epoch 96/100\n",
      "8929/8929 [==============================] - 3s - loss: 1.0250e-07 - acc: 1.0000     \n",
      "Epoch 97/100\n",
      "8929/8929 [==============================] - 3s - loss: 1.0250e-07 - acc: 1.0000     \n",
      "Epoch 98/100\n",
      "8929/8929 [==============================] - 3s - loss: 1.0250e-07 - acc: 1.0000     \n",
      "Epoch 99/100\n",
      "8929/8929 [==============================] - 3s - loss: 1.0250e-07 - acc: 1.0000     \n",
      "Epoch 100/100\n",
      "8929/8929 [==============================] - 3s - loss: 1.0250e-07 - acc: 1.0000     \n"
     ]
    },
    {
     "data": {
      "text/plain": [
       "<keras.callbacks.History at 0x20606d7beb8>"
      ]
     },
     "execution_count": 6,
     "metadata": {},
     "output_type": "execute_result"
    }
   ],
   "source": [
    "# training model\n",
    "clf.fit(X_train, Y_train, batch_size=10, epochs=100)"
   ]
  },
  {
   "cell_type": "code",
   "execution_count": 11,
   "metadata": {},
   "outputs": [
    {
     "name": "stdout",
     "output_type": "stream",
     "text": [
      "[[False]\n",
      " [ True]\n",
      " [False]\n",
      " ..., \n",
      " [False]\n",
      " [False]\n",
      " [False]]\n"
     ]
    }
   ],
   "source": [
    "# predicting the values\n",
    "Y_pred = clf.predict(X_test)\n",
    "Y_pred = (Y_pred > 0.5)\n",
    "print(Y_pred)"
   ]
  },
  {
   "cell_type": "code",
   "execution_count": 13,
   "metadata": {},
   "outputs": [
    {
     "name": "stdout",
     "output_type": "stream",
     "text": [
      "[[0]\n",
      " [1]\n",
      " [0]\n",
      " ..., \n",
      " [0]\n",
      " [0]\n",
      " [0]]\n"
     ]
    }
   ],
   "source": [
    "print(Y_test)"
   ]
  }
 ],
 "metadata": {
  "kernelspec": {
   "display_name": "Python 3",
   "language": "python",
   "name": "python3"
  },
  "language_info": {
   "codemirror_mode": {
    "name": "ipython",
    "version": 3
   },
   "file_extension": ".py",
   "mimetype": "text/x-python",
   "name": "python",
   "nbconvert_exporter": "python",
   "pygments_lexer": "ipython3",
   "version": "3.5.3"
  },
  "varInspector": {
   "cols": {
    "lenName": 16,
    "lenType": 16,
    "lenVar": 40
   },
   "kernels_config": {
    "python": {
     "delete_cmd_postfix": "",
     "delete_cmd_prefix": "del ",
     "library": "var_list.py",
     "varRefreshCmd": "print(var_dic_list())"
    },
    "r": {
     "delete_cmd_postfix": ") ",
     "delete_cmd_prefix": "rm(",
     "library": "var_list.r",
     "varRefreshCmd": "cat(var_dic_list()) "
    }
   },
   "types_to_exclude": [
    "module",
    "function",
    "builtin_function_or_method",
    "instance",
    "_Feature"
   ],
   "window_display": false
  }
 },
 "nbformat": 4,
 "nbformat_minor": 2
}
